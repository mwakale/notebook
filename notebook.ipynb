{
 "cells": [
  {
   "cell_type": "code",
   "execution_count": 1,
   "id": "bbaab758-c1a9-420f-adec-b3483b57d221",
   "metadata": {},
   "outputs": [
    {
     "name": "stderr",
     "output_type": "stream",
     "text": [
      "Matplotlib is building the font cache; this may take a moment.\n"
     ]
    }
   ],
   "source": [
    "import pandas as pd\n",
    "import numpy as np\n",
    "import matplotlib.pyplot as plt\n",
    "import seaborn as sns\n",
    "from sklearn.datasets import load_iris\n"
   ]
  },
  {
   "cell_type": "code",
   "execution_count": 2,
   "id": "b051ef34-702e-4106-a64f-805ac489c2c2",
   "metadata": {},
   "outputs": [
    {
     "name": "stdout",
     "output_type": "stream",
     "text": [
      "✅ Dataset loaded successfully.\n",
      "\n",
      "   sepal length (cm)  sepal width (cm)  petal length (cm)  petal width (cm)  \\\n",
      "0                5.1               3.5                1.4               0.2   \n",
      "1                4.9               3.0                1.4               0.2   \n",
      "2                4.7               3.2                1.3               0.2   \n",
      "3                4.6               3.1                1.5               0.2   \n",
      "4                5.0               3.6                1.4               0.2   \n",
      "\n",
      "  species  \n",
      "0  setosa  \n",
      "1  setosa  \n",
      "2  setosa  \n",
      "3  setosa  \n",
      "4  setosa  \n",
      "\n",
      "📋 Data Types:\n",
      " sepal length (cm)     float64\n",
      "sepal width (cm)      float64\n",
      "petal length (cm)     float64\n",
      "petal width (cm)      float64\n",
      "species              category\n",
      "dtype: object\n",
      "\n",
      "🔍 Missing Values:\n",
      " sepal length (cm)    0\n",
      "sepal width (cm)     0\n",
      "petal length (cm)    0\n",
      "petal width (cm)     0\n",
      "species              0\n",
      "dtype: int64\n"
     ]
    }
   ],
   "source": [
    "try:\n",
    "    iris = load_iris()\n",
    "    df = pd.DataFrame(data=iris.data, columns=iris.feature_names)\n",
    "    df['species'] = pd.Categorical.from_codes(iris.target, iris.target_names)\n",
    "    print(\"✅ Dataset loaded successfully.\\n\")\n",
    "except Exception as e:\n",
    "    print(\"❌ Failed to load dataset:\", e)\n",
    "\n",
    "print(df.head())\n",
    "print(\"\\n📋 Data Types:\\n\", df.dtypes)\n",
    "print(\"\\n🔍 Missing Values:\\n\", df.isnull().sum())\n",
    "\n",
    "df.dropna(inplace=True)\n"
   ]
  },
  {
   "cell_type": "code",
   "execution_count": null,
   "id": "58652da5-0fe6-48d9-acdf-213acaa06353",
   "metadata": {},
   "outputs": [],
   "source": []
  },
  {
   "cell_type": "code",
   "execution_count": null,
   "id": "69b52f78-7c73-4f79-96bc-a37871b9ce8d",
   "metadata": {},
   "outputs": [],
   "source": [
    "\n",
    "df['index'] = range(len(df))\n",
    "\n",
    "# Line Chart\n",
    "plt.figure(figsize=(10, 4))\n",
    "sns.lineplot(data=df, x='index', y='sepal length (cm)', label='Sepal Length')\n",
    "plt.title('Simulated Sepal Length Trend')\n",
    "plt.xlabel('Index (as time)')\n",
    "plt.ylabel('Sepal Length (cm)')\n",
    "plt.legend()\n",
    "plt.show()\n",
    "\n",
    "# Bar Chart\n",
    "plt.figure(figsize=(8, 5))\n",
    "sns.barplot(x=grouped.index, y=grouped['petal length (cm)'])\n",
    "plt.title('Average Petal Length by Species')\n",
    "plt.xlabel('Species')\n",
    "plt.ylabel('Average Petal Length (cm)')\n",
    "plt.show()\n",
    "\n",
    "# Histogram\n",
    "plt.figure(figsize=(8, 5))\n",
    "sns.histplot(df['petal width (cm)'], kde=True, bins=20)\n",
    "plt.title('Distribution of Petal Width')\n",
    "plt.xlabel('Petal Width (cm)')\n",
    "plt.ylabel('Frequency')\n",
    "plt.show()\n",
    "\n",
    "# Scatter Plot\n",
    "plt.figure(figsize=(8, 5))\n",
    "sns.scatterplot(data=df, x='sepal length (cm)', y='petal length (cm)', hue='species')\n",
    "plt.title('Sepal Length vs. Petal Length')\n",
    "plt.xlabel('Sepal Length (cm)')\n",
    "plt.ylabel('Petal Length (cm)')\n",
    "plt.legend()\n",
    "plt.show()\n"
   ]
  },
  {
   "cell_type": "code",
   "execution_count": null,
   "id": "600457cb-ac3a-4bc8-accc-894944aae5ec",
   "metadata": {},
   "outputs": [],
   "source": []
  },
  {
   "cell_type": "code",
   "execution_count": null,
   "id": "ecb84af8-e775-4d39-a3d0-5e2f4b58c27c",
   "metadata": {},
   "outputs": [],
   "source": []
  },
  {
   "cell_type": "code",
   "execution_count": null,
   "id": "0cb39dd7-f7e1-446f-adf6-e908e93dd899",
   "metadata": {},
   "outputs": [],
   "source": []
  }
 ],
 "metadata": {
  "kernelspec": {
   "display_name": "anaconda-panel-2023.05-py310",
   "language": "python",
   "name": "conda-env-anaconda-panel-2023.05-py310-py"
  },
  "language_info": {
   "codemirror_mode": {
    "name": "ipython",
    "version": 3
   },
   "file_extension": ".py",
   "mimetype": "text/x-python",
   "name": "python",
   "nbconvert_exporter": "python",
   "pygments_lexer": "ipython3",
   "version": "3.11.5"
  }
 },
 "nbformat": 4,
 "nbformat_minor": 5
}
